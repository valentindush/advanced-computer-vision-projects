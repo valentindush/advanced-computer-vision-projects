{
  "nbformat": 4,
  "nbformat_minor": 0,
  "metadata": {
    "colab": {
      "provenance": [],
      "authorship_tag": "ABX9TyNo8yJhNz1vNw+VcV3AmXX4",
      "include_colab_link": true
    },
    "kernelspec": {
      "name": "python3",
      "display_name": "Python 3"
    },
    "language_info": {
      "name": "python"
    }
  },
  "cells": [
    {
      "cell_type": "markdown",
      "metadata": {
        "id": "view-in-github",
        "colab_type": "text"
      },
      "source": [
        "<a href=\"https://colab.research.google.com/github/valentindush/advanced-computer-vision-projects/blob/master/Categorising.ipynb\" target=\"_parent\"><img src=\"https://colab.research.google.com/assets/colab-badge.svg\" alt=\"Open In Colab\"/></a>"
      ]
    },
    {
      "cell_type": "code",
      "execution_count": 2,
      "metadata": {
        "colab": {
          "base_uri": "https://localhost:8080/"
        },
        "id": "X6zZcrHRAujb",
        "outputId": "6626baa2-d1b1-461c-8739-866cf1856868"
      },
      "outputs": [
        {
          "output_type": "stream",
          "name": "stderr",
          "text": [
            "[nltk_data] Downloading package punkt to /root/nltk_data...\n",
            "[nltk_data]   Unzipping tokenizers/punkt.zip.\n",
            "[nltk_data] Downloading package averaged_perceptron_tagger to\n",
            "[nltk_data]     /root/nltk_data...\n",
            "[nltk_data]   Unzipping taggers/averaged_perceptron_tagger.zip.\n"
          ]
        },
        {
          "output_type": "execute_result",
          "data": {
            "text/plain": [
              "True"
            ]
          },
          "metadata": {},
          "execution_count": 2
        }
      ],
      "source": [
        "import nltk\n",
        "\n",
        "# Download necessary NLTK resources\n",
        "nltk.download('punkt')\n",
        "nltk.download('averaged_perceptron_tagger')\n"
      ]
    },
    {
      "cell_type": "code",
      "source": [
        "\n",
        "# Define the science question categories and their keywords\n",
        "categories = {\n",
        "    'physics': ['acceleration', 'atom', 'black hole', 'circuit', 'condensation', 'cosmic ray', 'density', 'diffraction', 'electric field', 'electron', 'energy level', 'entropy', 'escape velocity', 'fluid', 'frequency', 'fusion', 'gamma ray', 'gas', 'gravitation', 'heat', 'hertz', 'induction', 'inertia', 'infrared', 'ion', 'isotope', 'joule', 'kinematics', 'kinetic energy', 'laser', 'law of thermodynamics', 'light', 'magnetic field', 'mass', 'matter', 'mechanics', 'neutrino', 'nuclear energy', 'optics', 'oscillation', 'particle accelerator', 'photon', 'plasma', 'potential energy', 'pressure', 'quantum mechanics', 'radiation', 'refraction', 'relativity', 'resistance', 'scalar', 'semiconductor', 'spectrum', 'speed of light', 'string theory', 'superconductor', 'supernova', 'temperature', 'tensor', 'thermal conductivity', 'thermodynamics', 'ultraviolet', 'vector', 'vibration', 'voltage', 'wave', 'wave function', 'wavelength', 'x-ray', 'yield strength', 'young modulus', 'z-magnet', 'zero point energy', 'kinetic theory', 'electromagnetic', 'charge', 'magnet', 'thermostat', 'potential energy', 'work', 'power', 'momentum', 'torque', 'vectors', 'friction', 'oscillation', 'harmonic oscillator', 'rotational motion', 'linear motion', 'newtonian mechanics', 'gauge theory', 'magnetic flux', 'coupling constant', 'quantum chromodynamics', 'weak nuclear force', 'strong nuclear force', 'electric force', 'photoelectric effect', 'compton effect', 'pair production', 'neutrino oscillations', 'luminosity', 'stellar evolution', 'dark matter', 'dark energy', 'cosmic microwave background', 'velocity'],\n",
        "    'chemistry': ['acid', 'alkali', 'alkaline earth metal', 'alloy', 'amide', 'amine', 'amino acid', 'anion', 'aqueous solution', 'aromatic compound', 'atom', 'atomic mass', 'atomic number', 'Avogadro constant', 'base', 'benzene', 'bond', 'buffer', 'carbohydrate', 'carboxylic acid', 'cation', 'cellulose', 'chemical change', 'chemical equation', 'reaction', 'react', 'molecule', 'chemical formula', 'chemical reaction', 'chemistry', 'chiral', 'chromatography', 'compound', 'concentration', 'covalent bond', 'crystal', 'crystalline solid', 'detergent', 'diatomic molecule', 'dipole', 'disaccharide', 'electrolyte', 'element', 'emulsion', 'endothermic reaction', 'enthalpy', 'enzyme', 'equilibrium', 'ester', 'ether', 'fermentation', 'flame test', 'functional group', 'gas', 'glycerol', 'half-life', 'halogen', 'heat capacity', 'heat of fusion', 'heat of vaporization', 'hydrocarbon', 'hydrogen bond', 'hydration', 'hydronium ion', 'hydroxide', 'inorganic chemistry', 'intermolecular force', 'ion', 'ionic bond', 'ionic compound', 'isomer', 'isotope', 'ketone', 'law of conservation of mass', 'Lewis structure', 'ligand', 'limiting reactant', 'macromolecule', 'mass number', 'metal', 'mixture', 'molecular formula', 'molecule', 'neutralization reaction', 'noble gas', 'nucleic acid', 'organic chemistry', 'osmosis', 'oxidation', 'oxidation number', 'oxidizing agent', 'pH', 'periodic table', 'polar molecule', 'polymer', 'polypeptide', 'precision', 'pressure', 'product', 'protein', 'qualitative analysis', 'quantitative analysis', 'reactant', 'redox reaction', 'resonance', 'salt', 'saturated hydrocarbon', 'solubility', 'solution', 'solvent', 'specific heat', 'spectroscopy', 'stability', 'starch', 'stoichiometry', 'structural formula', 'substance', 'sugar', 'sulfuric acid', 'supersaturated solution', 'synthesis', 'temperature', 'thermochemistry', 'titration', 'unsaturated hydrocarbon', 'valence', 'van der Waals force', 'vapor pressure', 'vaporization', 'water', 'x-ray crystallography', 'yield', 'zwitterion'],\n",
        "    'biology' : ['allele', 'amino acid', 'anatomy', 'animal behavior', 'antibiotic', 'dna', 'genetics', 'gene', 'miosis','mitosis', 'antigen', 'apoptosis', 'artery', 'bacteria', 'base pair', 'biomolecule', 'biotechnology', 'blood', 'blood type', 'brain', 'cancer', 'carbon cycle', 'cell', 'cell cycle', 'cell membrane', 'cell respiration', 'cellular respiration', 'chloroplast', 'chromosome', 'circulatory system', 'cloning', 'coevolution', 'community', 'competition', 'cytoplasm', 'darwinism', 'deoxyribonucleic acid', 'diffusion', 'digestion', 'DNA', 'ecology', 'ecosystem', 'embryo', 'endocrine system', 'enzyme', 'evolution', 'excretion', 'extracellular matrix', 'food chain', 'food web', 'fungi', 'gamete', 'gene', 'gene expression', 'gene regulation', 'genetics', 'genotype', 'glucose', 'glycolysis', 'growth hormone', 'heterozygous', 'homeostasis', 'homologous structures', 'homozygous', 'hormone', 'human genome', 'immune system', 'infection', 'inheritance', 'insecticide', 'internal fertilization', 'ion', 'kidney', 'kingdom', 'leaf', 'meiosis', 'mitochondria', 'mitosis', 'mutation', 'natural selection', 'neuron', 'nitrogen cycle', 'nucleic acid', 'nucleotide', 'organelle', 'organism', 'osmosis', 'oxidation', 'oxygen cycle', 'pH', 'photosynthesis', 'phylogenetics', 'plasmid', 'plasma membrane', 'pollination', 'population', 'predation', 'protein', 'protoplasm', 'receptor', 'reproduction', 'ribosome', 'RNA', 'sexual reproduction', 'symbiosis', 'synapse', 'taxonomy', 'thermoregulation', 'transcription', 'translation', 'tropic level', 'tumor', 'vaccination', 'virus', 'zoology'],\n",
        "    'geology': ['earthquake', 'fossil', 'geography', 'geosphere', 'mineral', 'plate tectonics', 'rock', 'sediment', 'stratum', 'volcano'],\n",
        "    'astronomy': ['asteroid', 'comet', 'galaxy', 'gravity', 'orbit', 'planet', 'star', 'universe', 'cosmic', 'extraterrestrial'],\n",
        "    'mathematics': ['addition', 'algebra', 'angle', 'approximation', 'arithmetic', 'axiom', 'binomial', 'calculus', 'cardinality', 'circle', 'combinatorics', 'complex number', 'congruence', 'conic section', 'constant', 'coordinate', 'correlation', 'cosine', 'critical point', 'decimal', 'derivative', 'differential equation', 'dimension', 'distribution', 'divergence', 'divisor', 'domain', 'eigenvalue', 'ellipse', 'equation', 'exponent', 'expression', 'factor', 'factorial', 'function', 'geometry', 'graph', 'hyperbola', 'identity', 'imaginary number', 'infinite series', 'infinity', 'integral', 'intercept', 'intersection', 'inverse', 'irrational number', 'limit', 'line', 'linear equation', 'logarithm', 'matrix', 'maximum', 'mean', 'median', 'minimum', 'modulus', 'multiplication', 'natural number', 'negative number', 'normal distribution', 'numerator', 'obtuse angle', 'octagon', 'operation', 'order of operations', 'ordinate', 'parabola', 'parallel', 'percent', 'perimeter', 'permutation', 'pi', 'plane', 'point', 'polygon', 'polynomial', 'positive number', 'power', 'prime number', 'probability', 'product', 'proportion', 'pythagorean theorem', 'quadrangle', 'quadratic equation', 'quartile', 'radical', 'ratio', 'real number', 'rectangular coordinate', 'remainder', 'right angle', 'root', 'sequence', 'set', 'similar', 'sinusoid', 'slope', 'solid', 'sphere', 'square', 'statistics', 'subtraction', 'summation', 'surface area', 'symmetry', 'tangent', 'term', 'theorem', 'trapezoid', 'trigonometry', 'variable', 'vector', 'vertex', 'volume', 'x-axis', 'y-axis', 'z-axis'],\n",
        "    'engineering': ['civil', 'computer', 'electrical', 'mechanical', 'structural', 'systems', 'materials', 'robotics', 'aerospace', 'chemical engineering']\n",
        "}\n",
        "\n"
      ],
      "metadata": {
        "id": "7pweDlC9DPJw"
      },
      "execution_count": 3,
      "outputs": []
    },
    {
      "cell_type": "code",
      "source": [
        "\n",
        "# Define a function to categorize a given question\n",
        "def categorize_question(question):\n",
        "    # Tokenize the question into words\n",
        "    tokens = nltk.word_tokenize(question.lower())\n",
        "    \n",
        "    # Tag the part of speech for each word in the question\n",
        "    pos_tags = nltk.pos_tag(tokens)\n",
        "    \n",
        "    # Check which category keywords are present in the question\n",
        "    categories_present = []\n",
        "    for category, keywords in categories.items():\n",
        "        if any(keyword in tokens for keyword in keywords):\n",
        "            categories_present.append(category)\n",
        "    \n",
        "    # If no category keywords are present, return 'unknown'\n",
        "    if len(categories_present) == 0:\n",
        "        return 'unknown'\n",
        "    \n",
        "    # If one category keyword is present, return that category\n",
        "    if len(categories_present) == 1:\n",
        "        return categories_present[0]\n",
        "    \n",
        "    # If multiple category keywords are present, use part of speech tagging to disambiguate\n",
        "    for category in categories_present:\n",
        "        keywords = categories[category]\n",
        "        keyword_pos_tags = nltk.pos_tag(keywords)\n",
        "        keyword_pos = [pos for _, pos in keyword_pos_tags]\n",
        "        question_pos = [pos for _, pos in pos_tags if pos.startswith(('N', 'V'))]\n",
        "        if any(pos in keyword_pos for pos in question_pos):\n",
        "            return category\n",
        "    \n",
        "    # If part of speech tagging doesn't disambiguate, return the first category\n",
        "    return categories_present[0]\n"
      ],
      "metadata": {
        "id": "vsDiEg-KDUgf"
      },
      "execution_count": 4,
      "outputs": []
    },
    {
      "cell_type": "code",
      "source": [
        "\n",
        "# Test the function with some example questions\n",
        "questions = [\n",
        "    'What is the molecular structure of water?',\n",
        "    'How does energy relate to mass?',\n",
        "    'What is the role of DNA in genetics?',\n",
        "    'What is the chemical reaction that occurs when vinegar and baking soda are mixed?',\n",
        "    'What is the acceleration of a falling object?',\n",
        "    'What is the difference between a plant cell and an animal cell?',\n",
        "    'How does force affect velocity?'\n",
        "]\n",
        "\n",
        "for question in questions:\n",
        "    print(question)\n",
        "    print(categorize_question(question))\n",
        "    print()\n"
      ],
      "metadata": {
        "colab": {
          "base_uri": "https://localhost:8080/"
        },
        "id": "6fRerisrDaEz",
        "outputId": "498a0455-c945-4133-98f6-029c9315b536"
      },
      "execution_count": 5,
      "outputs": [
        {
          "output_type": "stream",
          "name": "stdout",
          "text": [
            "What is the molecular structure of water?\n",
            "chemistry\n",
            "\n",
            "How does energy relate to mass?\n",
            "physics\n",
            "\n",
            "What is the role of DNA in genetics?\n",
            "biology\n",
            "\n",
            "What is the chemical reaction that occurs when vinegar and baking soda are mixed?\n",
            "chemistry\n",
            "\n",
            "What is the acceleration of a falling object?\n",
            "physics\n",
            "\n",
            "What is the difference between a plant cell and an animal cell?\n",
            "biology\n",
            "\n",
            "How does force affect velocity?\n",
            "physics\n",
            "\n"
          ]
        }
      ]
    }
  ]
}